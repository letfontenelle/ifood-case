{
 "cells": [
  {
   "cell_type": "markdown",
   "metadata": {
    "application/vnd.databricks.v1+cell": {
     "cellMetadata": {
      "byteLimit": 2048000,
      "rowLimit": 10000
     },
     "inputWidgets": {},
     "nuid": "d91fe814-bf9d-4cb0-82e3-1d0483a96509",
     "showTitle": false,
     "tableResultSettingsMap": {},
     "title": ""
    }
   },
   "source": [
    "### Análise dos Dados de Corridas de Táxi em NY - iFood Case\n",
    "\n",
    "Neste notebook, são respondidas as perguntas do case técnico de Data Architect, utilizando a camada gold dos dados processados no Databricks.\n",
    "\n",
    "Serão abordadas:\n",
    "1. A média de valor total recebido em cada mês por todos os yellow táxis da frota.\n",
    "2. A média de passageiros por hora do dia, apenas para o mês de maio de 2023, considerando todos os táxis da frota.\n",
    "\n",
    "Os resultados das análises também serão salvos como tabelas na camada gold, facilitando o consumo posterior."
   ]
  },
  {
   "cell_type": "code",
   "execution_count": 0,
   "metadata": {
    "application/vnd.databricks.v1+cell": {
     "cellMetadata": {
      "byteLimit": 2048000,
      "rowLimit": 10000
     },
     "inputWidgets": {},
     "nuid": "767f4359-a475-4b9f-a044-46b93b750212",
     "showTitle": false,
     "tableResultSettingsMap": {},
     "title": ""
    }
   },
   "outputs": [],
   "source": [
    "from pyspark.sql.functions import hour"
   ]
  },
  {
   "cell_type": "markdown",
   "metadata": {
    "application/vnd.databricks.v1+cell": {
     "cellMetadata": {},
     "inputWidgets": {},
     "nuid": "a471fb4a-64c4-4e77-aef0-e796fd5833e3",
     "showTitle": false,
     "tableResultSettingsMap": {},
     "title": ""
    }
   },
   "source": [
    "### A média de valor total recebido em cada mês por todos os yellow táxis da frota."
   ]
  },
  {
   "cell_type": "code",
   "execution_count": 0,
   "metadata": {
    "application/vnd.databricks.v1+cell": {
     "cellMetadata": {
      "byteLimit": 2048000,
      "rowLimit": 10000
     },
     "inputWidgets": {},
     "nuid": "d56b8a66-ca03-47b6-9685-52e46ef6d2f4",
     "showTitle": false,
     "tableResultSettingsMap": {},
     "title": ""
    }
   },
   "outputs": [],
   "source": [
    "df_gold_mean_total = spark.sql(\"\"\"\n",
    "    SELECT\n",
    "        YEAR(pickup_datetime) AS ano,\n",
    "        MONTH(pickup_datetime) AS mes,\n",
    "        ROUND(AVG(total_amount), 2) AS media_total_amount\n",
    "    FROM silver.yellow_tripdata\n",
    "    GROUP BY ano, mes\n",
    "    ORDER BY ano, mes\n",
    "\"\"\")"
   ]
  },
  {
   "cell_type": "code",
   "execution_count": 0,
   "metadata": {
    "application/vnd.databricks.v1+cell": {
     "cellMetadata": {
      "byteLimit": 2048000,
      "rowLimit": 10000
     },
     "inputWidgets": {},
     "nuid": "60d8929c-1d9d-4ed7-be79-ac753755a494",
     "showTitle": false,
     "tableResultSettingsMap": {},
     "title": ""
    }
   },
   "outputs": [
    {
     "output_type": "display_data",
     "data": {
      "text/html": [
       "<style scoped>\n",
       "  .table-result-container {\n",
       "    max-height: 300px;\n",
       "    overflow: auto;\n",
       "  }\n",
       "  table, th, td {\n",
       "    border: 1px solid black;\n",
       "    border-collapse: collapse;\n",
       "  }\n",
       "  th, td {\n",
       "    padding: 5px;\n",
       "  }\n",
       "  th {\n",
       "    text-align: left;\n",
       "  }\n",
       "</style><div class='table-result-container'><table class='table-result'><thead style='background-color: white'><tr><th>ano</th><th>mes</th><th>media_total_amount</th></tr></thead><tbody><tr><td>2023</td><td>1</td><td>27.36</td></tr><tr><td>2023</td><td>2</td><td>27.29</td></tr><tr><td>2023</td><td>3</td><td>28.21</td></tr><tr><td>2023</td><td>4</td><td>28.69</td></tr><tr><td>2023</td><td>5</td><td>29.37</td></tr></tbody></table></div>"
      ]
     },
     "metadata": {
      "application/vnd.databricks.v1+output": {
       "addedWidgets": {},
       "aggData": [],
       "aggError": "",
       "aggOverflow": false,
       "aggSchema": [],
       "aggSeriesLimitReached": false,
       "aggType": "",
       "arguments": {},
       "columnCustomDisplayInfos": {},
       "data": [
        [
         2023,
         1,
         27.36
        ],
        [
         2023,
         2,
         27.29
        ],
        [
         2023,
         3,
         28.21
        ],
        [
         2023,
         4,
         28.69
        ],
        [
         2023,
         5,
         29.37
        ]
       ],
       "datasetInfos": [],
       "dbfsResultPath": null,
       "isJsonSchema": true,
       "metadata": {},
       "overflow": false,
       "plotOptions": {
        "customPlotOptions": {},
        "displayType": "table",
        "pivotAggregation": null,
        "pivotColumns": null,
        "xColumns": null,
        "yColumns": null
       },
       "removedWidgets": [],
       "schema": [
        {
         "metadata": "{}",
         "name": "ano",
         "type": "\"integer\""
        },
        {
         "metadata": "{}",
         "name": "mes",
         "type": "\"integer\""
        },
        {
         "metadata": "{}",
         "name": "media_total_amount",
         "type": "\"double\""
        }
       ],
       "type": "table"
      }
     },
     "output_type": "display_data"
    }
   ],
   "source": [
    "df_gold_mean_total.display()"
   ]
  },
  {
   "cell_type": "markdown",
   "metadata": {
    "application/vnd.databricks.v1+cell": {
     "cellMetadata": {},
     "inputWidgets": {},
     "nuid": "6abb73b3-f45c-46d4-94e3-50dc486e61c9",
     "showTitle": false,
     "tableResultSettingsMap": {},
     "title": ""
    }
   },
   "source": [
    "### A média de passageiros por hora do dia, apenas para o mês de maio de 2023, considerando todos os táxis da frota.\n"
   ]
  },
  {
   "cell_type": "code",
   "execution_count": 0,
   "metadata": {
    "application/vnd.databricks.v1+cell": {
     "cellMetadata": {
      "byteLimit": 2048000,
      "rowLimit": 10000
     },
     "inputWidgets": {},
     "nuid": "cf320651-c867-4302-9e97-eeae1b1a19d8",
     "showTitle": false,
     "tableResultSettingsMap": {},
     "title": ""
    }
   },
   "outputs": [],
   "source": [
    "df_gold_mean_passenger_hour = spark.sql(\"\"\"\n",
    "SELECT\n",
    "    HOUR(pickup_datetime) AS hora,\n",
    "    ROUND(AVG(passenger_count), 2) AS media_passageiros\n",
    "FROM silver.yellow_tripdata\n",
    "WHERE YEAR(pickup_datetime) = 2023\n",
    "  AND MONTH(pickup_datetime) = 5\n",
    "GROUP BY hora\n",
    "ORDER BY hora\n",
    "\"\"\")\n"
   ]
  },
  {
   "cell_type": "code",
   "execution_count": 0,
   "metadata": {
    "application/vnd.databricks.v1+cell": {
     "cellMetadata": {
      "byteLimit": 2048000,
      "rowLimit": 10000
     },
     "inputWidgets": {},
     "nuid": "fc7d8a21-cfb2-4c76-a5aa-de2f029f4b6b",
     "showTitle": false,
     "tableResultSettingsMap": {},
     "title": ""
    }
   },
   "outputs": [
    {
     "output_type": "display_data",
     "data": {
      "text/html": [
       "<style scoped>\n",
       "  .table-result-container {\n",
       "    max-height: 300px;\n",
       "    overflow: auto;\n",
       "  }\n",
       "  table, th, td {\n",
       "    border: 1px solid black;\n",
       "    border-collapse: collapse;\n",
       "  }\n",
       "  th, td {\n",
       "    padding: 5px;\n",
       "  }\n",
       "  th {\n",
       "    text-align: left;\n",
       "  }\n",
       "</style><div class='table-result-container'><table class='table-result'><thead style='background-color: white'><tr><th>hora</th><th>media_passageiros</th></tr></thead><tbody><tr><td>0</td><td>1.43</td></tr><tr><td>1</td><td>1.44</td></tr><tr><td>2</td><td>1.46</td></tr><tr><td>3</td><td>1.45</td></tr><tr><td>4</td><td>1.41</td></tr><tr><td>5</td><td>1.28</td></tr><tr><td>6</td><td>1.26</td></tr><tr><td>7</td><td>1.28</td></tr><tr><td>8</td><td>1.3</td></tr><tr><td>9</td><td>1.31</td></tr><tr><td>10</td><td>1.35</td></tr><tr><td>11</td><td>1.36</td></tr><tr><td>12</td><td>1.38</td></tr><tr><td>13</td><td>1.39</td></tr><tr><td>14</td><td>1.39</td></tr><tr><td>15</td><td>1.4</td></tr><tr><td>16</td><td>1.4</td></tr><tr><td>17</td><td>1.39</td></tr><tr><td>18</td><td>1.38</td></tr><tr><td>19</td><td>1.39</td></tr><tr><td>20</td><td>1.4</td></tr><tr><td>21</td><td>1.42</td></tr><tr><td>22</td><td>1.43</td></tr><tr><td>23</td><td>1.42</td></tr></tbody></table></div>"
      ]
     },
     "metadata": {
      "application/vnd.databricks.v1+output": {
       "addedWidgets": {},
       "aggData": [],
       "aggError": "",
       "aggOverflow": false,
       "aggSchema": [],
       "aggSeriesLimitReached": false,
       "aggType": "",
       "arguments": {},
       "columnCustomDisplayInfos": {},
       "data": [
        [
         0,
         1.43
        ],
        [
         1,
         1.44
        ],
        [
         2,
         1.46
        ],
        [
         3,
         1.45
        ],
        [
         4,
         1.41
        ],
        [
         5,
         1.28
        ],
        [
         6,
         1.26
        ],
        [
         7,
         1.28
        ],
        [
         8,
         1.3
        ],
        [
         9,
         1.31
        ],
        [
         10,
         1.35
        ],
        [
         11,
         1.36
        ],
        [
         12,
         1.38
        ],
        [
         13,
         1.39
        ],
        [
         14,
         1.39
        ],
        [
         15,
         1.4
        ],
        [
         16,
         1.4
        ],
        [
         17,
         1.39
        ],
        [
         18,
         1.38
        ],
        [
         19,
         1.39
        ],
        [
         20,
         1.4
        ],
        [
         21,
         1.42
        ],
        [
         22,
         1.43
        ],
        [
         23,
         1.42
        ]
       ],
       "datasetInfos": [],
       "dbfsResultPath": null,
       "isJsonSchema": true,
       "metadata": {},
       "overflow": false,
       "plotOptions": {
        "customPlotOptions": {},
        "displayType": "table",
        "pivotAggregation": null,
        "pivotColumns": null,
        "xColumns": null,
        "yColumns": null
       },
       "removedWidgets": [],
       "schema": [
        {
         "metadata": "{}",
         "name": "hora",
         "type": "\"integer\""
        },
        {
         "metadata": "{}",
         "name": "media_passageiros",
         "type": "\"double\""
        }
       ],
       "type": "table"
      }
     },
     "output_type": "display_data"
    }
   ],
   "source": [
    "df_gold_mean_passenger_hour.display()"
   ]
  },
  {
   "cell_type": "markdown",
   "metadata": {
    "application/vnd.databricks.v1+cell": {
     "cellMetadata": {},
     "inputWidgets": {},
     "nuid": "ead68347-44a0-4905-8ac0-9557c21cd6fd",
     "showTitle": false,
     "tableResultSettingsMap": {},
     "title": ""
    }
   },
   "source": [
    "### Salvando na gold"
   ]
  },
  {
   "cell_type": "code",
   "execution_count": 0,
   "metadata": {
    "application/vnd.databricks.v1+cell": {
     "cellMetadata": {
      "byteLimit": 2048000,
      "rowLimit": 10000
     },
     "inputWidgets": {},
     "nuid": "014fed6c-e4bc-4f8e-bc92-ae2f1c26567d",
     "showTitle": false,
     "tableResultSettingsMap": {},
     "title": ""
    }
   },
   "outputs": [],
   "source": [
    "# Caminhos para a camada gold\n",
    "gold_base = \"/FileStore/tables/gold\"\n",
    "gold_mean_total = f\"{gold_base}/yellow_mean_total\"\n",
    "gold_mean_passenger_hour = f\"{gold_base}/yellow_mean_passenger_hour\""
   ]
  },
  {
   "cell_type": "code",
   "execution_count": 0,
   "metadata": {
    "application/vnd.databricks.v1+cell": {
     "cellMetadata": {
      "byteLimit": 2048000,
      "rowLimit": 10000
     },
     "inputWidgets": {},
     "nuid": "f4b79537-6c43-4dcd-b3f6-d9794a578957",
     "showTitle": false,
     "tableResultSettingsMap": {},
     "title": ""
    }
   },
   "outputs": [],
   "source": [
    "# Salva os resultados como Delta Lake\n",
    "df_gold_mean_total.write.format(\"delta\").mode(\"overwrite\").save(gold_mean_total)\n",
    "df_gold_mean_passenger_hour.write.format(\"delta\").mode(\"overwrite\").save(gold_mean_passenger_hour)\n"
   ]
  },
  {
   "cell_type": "code",
   "execution_count": 0,
   "metadata": {
    "application/vnd.databricks.v1+cell": {
     "cellMetadata": {
      "byteLimit": 2048000,
      "rowLimit": 10000
     },
     "inputWidgets": {},
     "nuid": "fe59874f-fead-4cca-bbd3-0608358f77cb",
     "showTitle": false,
     "tableResultSettingsMap": {},
     "title": ""
    }
   },
   "outputs": [
    {
     "output_type": "stream",
     "name": "stdout",
     "output_type": "stream",
     "text": [
      "Out[17]: DataFrame[]"
     ]
    }
   ],
   "source": [
    "# Remove tabelas anteriores, se existirem\n",
    "spark.sql(\"DROP TABLE IF EXISTS gold.yellow_mean_total\")\n",
    "spark.sql(\"DROP TABLE IF EXISTS gold.yellow_mean_passenger_hour\")\n",
    "\n",
    "# Cria as tabelas no schema gold apontando para os dados Delta Lake\n",
    "spark.sql(f\"\"\"\n",
    "    CREATE TABLE gold.yellow_mean_total \n",
    "    USING DELTA LOCATION '{gold_mean_total}'\n",
    "\"\"\")\n",
    "\n",
    "spark.sql(f\"\"\"\n",
    "    CREATE TABLE gold.yellow_mean_passenger_hour \n",
    "    USING DELTA LOCATION '{gold_mean_passenger_hour}'\n",
    "\"\"\")"
   ]
  }
 ],
 "metadata": {
  "application/vnd.databricks.v1+notebook": {
   "computePreferences": null,
   "dashboards": [],
   "environmentMetadata": {
    "base_environment": "",
    "environment_version": "1"
   },
   "inputWidgetPreferences": null,
   "language": "python",
   "notebookMetadata": {
    "pythonIndentUnit": 4
   },
   "notebookName": "case_analysis",
   "widgets": {}
  }
 },
 "nbformat": 4,
 "nbformat_minor": 0
}