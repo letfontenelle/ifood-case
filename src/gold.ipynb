{
 "cells": [
  {
   "cell_type": "markdown",
   "metadata": {
    "application/vnd.databricks.v1+cell": {
     "cellMetadata": {},
     "inputWidgets": {},
     "nuid": "bf052a45-2259-4dce-a4da-6dbb2eb5dc6f",
     "showTitle": false,
     "tableResultSettingsMap": {},
     "title": ""
    }
   },
   "source": [
    "### Camada Gold - Possíveis Análises\n",
    "\n",
    "Nessa camada você encontra as análises pedidas no case salvas, mas elas estao sendo feitas em outro notebook separado (case-data-architect/src/analysis)\n",
    "\n",
    "Neste notebook, fiz uma agregação que pode ser bastante útil em análises de dados - fiz apenas para o yellow como exemplo -, já que ela permite analisar o desempenho dos diferentes vendors ao longo do tempo. Isso é fundamental para monitorar receitas, identificar tendências, sazonalidade e até tomar decisões estratégicas sobre parcerias ou incentivos.\n"
   ]
  },
  {
   "cell_type": "code",
   "execution_count": 0,
   "metadata": {
    "application/vnd.databricks.v1+cell": {
     "cellMetadata": {
      "byteLimit": 2048000,
      "rowLimit": 10000
     },
     "inputWidgets": {},
     "nuid": "bc60be0e-5578-4f2f-83e6-e94ae100e246",
     "showTitle": false,
     "tableResultSettingsMap": {},
     "title": ""
    }
   },
   "outputs": [],
   "source": [
    "from pyspark.sql.functions import year, month, sum as _sum, col, unix_timestamp, round"
   ]
  },
  {
   "cell_type": "code",
   "execution_count": 0,
   "metadata": {
    "application/vnd.databricks.v1+cell": {
     "cellMetadata": {
      "byteLimit": 2048000,
      "rowLimit": 10000
     },
     "inputWidgets": {},
     "nuid": "b00f9984-ae86-4cb6-9d2b-4e18219e24cc",
     "showTitle": false,
     "tableResultSettingsMap": {},
     "title": ""
    }
   },
   "outputs": [
    {
     "name": "stdout",
     "output_type": "stream",
     "text": [
      "Out[13]: DataFrame[]"
     ]
    }
   ],
   "source": [
    "spark.sql(\"CREATE DATABASE IF NOT EXISTS gold\")"
   ]
  },
  {
   "cell_type": "markdown",
   "metadata": {
    "application/vnd.databricks.v1+cell": {
     "cellMetadata": {},
     "inputWidgets": {},
     "nuid": "652aac4c-73e4-4b9c-87e7-1ae5244558cf",
     "showTitle": false,
     "tableResultSettingsMap": {},
     "title": ""
    }
   },
   "source": [
    "### Lendo os dados da camada silver"
   ]
  },
  {
   "cell_type": "code",
   "execution_count": 0,
   "metadata": {
    "application/vnd.databricks.v1+cell": {
     "cellMetadata": {
      "byteLimit": 2048000,
      "rowLimit": 10000
     },
     "inputWidgets": {},
     "nuid": "88110925-7fa2-4b11-b76a-322a97930141",
     "showTitle": false,
     "tableResultSettingsMap": {},
     "title": ""
    }
   },
   "outputs": [],
   "source": [
    "\n",
    "df_silver_yellow = spark.read.table(\"silver.yellow_tripdata\")\n",
    "df_silver_green = spark.read.table(\"silver.green_tripdata\")"
   ]
  },
  {
   "cell_type": "markdown",
   "metadata": {
    "application/vnd.databricks.v1+cell": {
     "cellMetadata": {},
     "inputWidgets": {},
     "nuid": "8101542d-36bc-4438-a391-eeb8e94a3c1b",
     "showTitle": false,
     "tableResultSettingsMap": {},
     "title": ""
    }
   },
   "source": [
    "### Agregação\n",
    "\n",
    "Total faturado, percorrido e horas percorridas, por mês, por vendor, dado período."
   ]
  },
  {
   "cell_type": "code",
   "execution_count": 0,
   "metadata": {
    "application/vnd.databricks.v1+cell": {
     "cellMetadata": {
      "byteLimit": 2048000,
      "rowLimit": 10000
     },
     "inputWidgets": {},
     "nuid": "3d0e45bb-f736-45b1-b5a5-8ef177ddaef2",
     "showTitle": false,
     "tableResultSettingsMap": {},
     "title": ""
    }
   },
   "outputs": [],
   "source": [
    "# Gera coluna de duração da corrida em horas\n",
    "df_silver_yellow = df_silver_yellow.withColumn(\n",
    "    \"horas_corrida\",\n",
    "    (unix_timestamp(\"dropoff_datetime\") - unix_timestamp(\"pickup_datetime\")) / 3600.0\n",
    ")\n",
    "\n",
    "# Agregação\n",
    "df_gold_agg = (\n",
    "    df_silver_yellow\n",
    "    .groupBy(\n",
    "        year(\"pickup_datetime\").alias(\"year\"),\n",
    "        month(\"pickup_datetime\").alias(\"month\"),\n",
    "        col(\"vendor_id\").alias(\"vendor_id\")\n",
    "    )\n",
    "    .agg(\n",
    "        round(_sum(\"total_amount\"), 2).alias(\"total_faturado\"),\n",
    "        round(_sum(\"trip_distance\"), 2).alias(\"total_percorrido\"),\n",
    "        round(_sum(\"horas_corrida\"), 2).alias(\"horas_percorridas\")\n",
    "    )\n",
    "    .orderBy(\"year\", \"month\", \"vendor_id\")\n",
    ")"
   ]
  },
  {
   "cell_type": "code",
   "execution_count": 0,
   "metadata": {
    "application/vnd.databricks.v1+cell": {
     "cellMetadata": {
      "byteLimit": 2048000,
      "rowLimit": 10000
     },
     "inputWidgets": {},
     "nuid": "b1473515-70ab-4418-b95c-5fca98ec92c5",
     "showTitle": false,
     "tableResultSettingsMap": {},
     "title": ""
    }
   },
   "outputs": [
    {
     "data": {
      "text/html": [
       "<style scoped>\n",
       "  .table-result-container {\n",
       "    max-height: 300px;\n",
       "    overflow: auto;\n",
       "  }\n",
       "  table, th, td {\n",
       "    border: 1px solid black;\n",
       "    border-collapse: collapse;\n",
       "  }\n",
       "  th, td {\n",
       "    padding: 5px;\n",
       "  }\n",
       "  th {\n",
       "    text-align: left;\n",
       "  }\n",
       "</style><div class='table-result-container'><table class='table-result'><thead style='background-color: white'><tr><th>year</th><th>month</th><th>vendor_id</th><th>total_faturado</th><th>total_percorrido</th><th>horas_percorridas</th></tr></thead><tbody><tr><td>2023</td><td>1</td><td>1</td><td>1.915540076E7</td><td>2393743.8</td><td>180691.04</td></tr><tr><td>2023</td><td>1</td><td>2</td><td>5.975346966E7</td><td>7686131.93</td><td>578083.25</td></tr><tr><td>2023</td><td>2</td><td>1</td><td>1.843063483E7</td><td>2251764.0</td><td>176740.97</td></tr><tr><td>2023</td><td>2</td><td>2</td><td>5.614787132E7</td><td>7025679.19</td><td>555909.7</td></tr><tr><td>2023</td><td>3</td><td>1</td><td>2.269677576E7</td><td>2766875.4</td><td>222679.14</td></tr><tr><td>2023</td><td>3</td><td>2</td><td>6.731453137E7</td><td>8519343.85</td><td>679848.6</td></tr><tr><td>2023</td><td>4</td><td>1</td><td>2.162960119E7</td><td>2661611.3</td><td>212876.19</td></tr><tr><td>2023</td><td>4</td><td>2</td><td>6.666870254E7</td><td>8469269.71</td><td>676948.87</td></tr><tr><td>2023</td><td>5</td><td>1</td><td>2.324709238E7</td><td>2812499.4</td><td>237000.86</td></tr><tr><td>2023</td><td>5</td><td>2</td><td>7.313308331E7</td><td>9223517.52</td><td>756635.98</td></tr></tbody></table></div>"
      ]
     },
     "metadata": {
      "application/vnd.databricks.v1+output": {
       "addedWidgets": {},
       "aggData": [],
       "aggError": "",
       "aggOverflow": false,
       "aggSchema": [],
       "aggSeriesLimitReached": false,
       "aggType": "",
       "arguments": {},
       "columnCustomDisplayInfos": {},
       "data": [
        [
         2023,
         1,
         1,
         19155400.76,
         2393743.8,
         180691.04
        ],
        [
         2023,
         1,
         2,
         59753469.66,
         7686131.93,
         578083.25
        ],
        [
         2023,
         2,
         1,
         18430634.83,
         2251764,
         176740.97
        ],
        [
         2023,
         2,
         2,
         56147871.32,
         7025679.19,
         555909.7
        ],
        [
         2023,
         3,
         1,
         22696775.76,
         2766875.4,
         222679.14
        ],
        [
         2023,
         3,
         2,
         67314531.37,
         8519343.85,
         679848.6
        ],
        [
         2023,
         4,
         1,
         21629601.19,
         2661611.3,
         212876.19
        ],
        [
         2023,
         4,
         2,
         66668702.54,
         8469269.71,
         676948.87
        ],
        [
         2023,
         5,
         1,
         23247092.38,
         2812499.4,
         237000.86
        ],
        [
         2023,
         5,
         2,
         73133083.31,
         9223517.52,
         756635.98
        ]
       ],
       "datasetInfos": [],
       "dbfsResultPath": null,
       "isJsonSchema": true,
       "metadata": {},
       "overflow": false,
       "plotOptions": {
        "customPlotOptions": {},
        "displayType": "table",
        "pivotAggregation": null,
        "pivotColumns": null,
        "xColumns": null,
        "yColumns": null
       },
       "removedWidgets": [],
       "schema": [
        {
         "metadata": "{}",
         "name": "year",
         "type": "\"integer\""
        },
        {
         "metadata": "{}",
         "name": "month",
         "type": "\"integer\""
        },
        {
         "metadata": "{}",
         "name": "vendor_id",
         "type": "\"integer\""
        },
        {
         "metadata": "{}",
         "name": "total_faturado",
         "type": "\"double\""
        },
        {
         "metadata": "{}",
         "name": "total_percorrido",
         "type": "\"double\""
        },
        {
         "metadata": "{}",
         "name": "horas_percorridas",
         "type": "\"double\""
        }
       ],
       "type": "table"
      }
     },
     "output_type": "display_data"
    }
   ],
   "source": [
    "df_gold_agg.display()"
   ]
  },
  {
   "cell_type": "code",
   "execution_count": 0,
   "metadata": {
    "application/vnd.databricks.v1+cell": {
     "cellMetadata": {
      "byteLimit": 2048000,
      "rowLimit": 10000
     },
     "inputWidgets": {},
     "nuid": "91556084-fe67-461c-a781-8e2af0ad7f81",
     "showTitle": false,
     "tableResultSettingsMap": {},
     "title": ""
    }
   },
   "outputs": [
    {
     "name": "stdout",
     "output_type": "stream",
     "text": [
      "Out[11]: DataFrame[]"
     ]
    }
   ],
   "source": [
    "# Caminho para a tabela gold\n",
    "gold_agg_path = \"/FileStore/tables/gold/yellow_agg_vendor_mes\"\n",
    "\n",
    "# Salva como Delta\n",
    "df_gold_agg.write.format(\"delta\").mode(\"overwrite\").save(gold_agg_path)\n",
    "\n",
    "# Registra a tabela no schema gold\n",
    "spark.sql(\"DROP TABLE IF EXISTS gold.yellow_agg_vendor_mes\")\n",
    "spark.sql(f\"CREATE TABLE gold.yellow_agg_vendor_mes USING DELTA LOCATION '{gold_agg_path}'\")"
   ]
  }
 ],
 "metadata": {
  "application/vnd.databricks.v1+notebook": {
   "computePreferences": null,
   "dashboards": [],
   "environmentMetadata": {
    "base_environment": "",
    "environment_version": "1"
   },
   "inputWidgetPreferences": null,
   "language": "python",
   "notebookMetadata": {
    "pythonIndentUnit": 4
   },
   "notebookName": "gold",
   "widgets": {}
  },
  "language_info": {
   "name": "python"
  }
 },
 "nbformat": 4,
 "nbformat_minor": 0
}
