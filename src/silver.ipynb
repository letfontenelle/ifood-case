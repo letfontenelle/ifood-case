{
 "cells": [
  {
   "cell_type": "code",
   "execution_count": 0,
   "metadata": {
    "application/vnd.databricks.v1+cell": {
     "cellMetadata": {
      "byteLimit": 2048000,
      "rowLimit": 10000
     },
     "inputWidgets": {},
     "nuid": "9d0d1943-8bd3-454c-8dd0-62d9d8e30778",
     "showTitle": false,
     "tableResultSettingsMap": {},
     "title": ""
    }
   },
   "outputs": [],
   "source": [
    "from pyspark.sql.functions import col, round, year, month\n",
    "from pyspark.sql import SparkSession"
   ]
  },
  {
   "cell_type": "markdown",
   "metadata": {
    "application/vnd.databricks.v1+cell": {
     "cellMetadata": {
      "byteLimit": 2048000,
      "rowLimit": 10000
     },
     "inputWidgets": {},
     "nuid": "d00fbc85-896f-4c34-afaa-e955e24b00c4",
     "showTitle": false,
     "tableResultSettingsMap": {},
     "title": ""
    }
   },
   "source": [
    "### Função processar_df_taxi\n",
    "\n",
    "A função utilitária `processar_df_taxi` é responsável por limpar, filtrar e padronizar os dados dos táxis Yellow/Green para a camada Silver:\n",
    "\n",
    "- Remove registros nulos em colunas obrigatórias\n",
    "- Filtra viagens inválidas (ex: valores negativos)\n",
    "- Faz cast dos tipos e arredondamento dos valores\n",
    "- Renomeei VendorID => vendor_id para manter a nomenclatura, assim como outras colunas que também estavam em camel case\n",
    "- filtra todo mundo que está em 2023, entre os meses janeiro e maio (percebi que no dataset tinha alguns anos diferentes)"
   ]
  },
  {
   "cell_type": "code",
   "execution_count": 0,
   "metadata": {
    "application/vnd.databricks.v1+cell": {
     "cellMetadata": {
      "byteLimit": 2048000,
      "rowLimit": 10000
     },
     "inputWidgets": {},
     "nuid": "44e9f648-a1ae-426b-a50c-ce79fb96609a",
     "showTitle": false,
     "tableResultSettingsMap": {},
     "title": ""
    }
   },
   "outputs": [],
   "source": [
    "def processar_df_taxi(df):\n",
    "    if 'tpep_pickup_datetime' in df.columns:\n",
    "        pickup_col = 'tpep_pickup_datetime'\n",
    "        dropoff_col = 'tpep_dropoff_datetime'\n",
    "    elif 'lpep_pickup_datetime' in df.columns:\n",
    "        pickup_col = 'lpep_pickup_datetime'\n",
    "        dropoff_col = 'lpep_dropoff_datetime'\n",
    "    else:\n",
    "        raise ValueError(\"Colunas de data/hora não encontradas no DataFrame.\")\n",
    "\n",
    "    # Padroniza nomes das colunas para facilitar análises futuras\n",
    "    df_proc = (\n",
    "        df\n",
    "        .withColumnRenamed(pickup_col, \"pickup_datetime\")\n",
    "        .withColumnRenamed(dropoff_col, \"dropoff_datetime\")\n",
    "        .dropna(subset=[\"VendorID\", \"passenger_count\", \"total_amount\", \"pickup_datetime\", \"dropoff_datetime\", \"trip_distance\"])\n",
    "        .filter((year(\"pickup_datetime\") == 2023) & (month(\"pickup_datetime\").between(1, 5)))\n",
    "        .filter(col(\"passenger_count\") >= 1)\n",
    "        .filter(col(\"trip_distance\") > 0)\n",
    "        .filter(col(\"total_amount\") > 0)\n",
    "        .filter(col(\"dropoff_datetime\") > col(\"pickup_datetime\"))\n",
    "        .withColumn(\"VendorID\", col(\"VendorID\").cast(\"integer\"))\n",
    "        .withColumn(\"passenger_count\", col(\"passenger_count\").cast(\"integer\"))\n",
    "        .withColumn(\"total_amount\", round(col(\"total_amount\").cast(\"double\"), 2).cast(\"double\"))\n",
    "        .withColumn(\"trip_distance\", round(col(\"trip_distance\").cast(\"double\"), 2).cast(\"double\"))\n",
    "        .withColumn(\"pickup_datetime\", col(\"pickup_datetime\").cast(\"timestamp\"))\n",
    "        .withColumn(\"dropoff_datetime\", col(\"dropoff_datetime\").cast(\"timestamp\"))\n",
    "        .withColumnRenamed(\"VendorID\", \"vendor_id\")\n",
    "        .withColumnRenamed(\"RatecodeID\", \"ratecode_id\")\n",
    "        .withColumnRenamed(\"PULocationID\", \"pu_location_id\")\n",
    "        .withColumnRenamed(\"DOLocationID\", \"do_location_id\")\n",
    "\n",
    "    )\n",
    "    return df_proc"
   ]
  },
  {
   "cell_type": "markdown",
   "metadata": {
    "application/vnd.databricks.v1+cell": {
     "cellMetadata": {
      "byteLimit": 2048000,
      "rowLimit": 10000
     },
     "inputWidgets": {},
     "nuid": "2a6d0188-7994-4efc-8970-da7d21048140",
     "showTitle": false,
     "tableResultSettingsMap": {},
     "title": ""
    }
   },
   "source": [
    "### Criação do Schema Silver\n",
    "\n",
    "Garante que o schema (database) silver está disponível para persistência das tabelas tratadas."
   ]
  },
  {
   "cell_type": "code",
   "execution_count": 0,
   "metadata": {
    "application/vnd.databricks.v1+cell": {
     "cellMetadata": {
      "byteLimit": 2048000,
      "rowLimit": 10000
     },
     "inputWidgets": {},
     "nuid": "7ef82a60-0c9e-44ec-8cda-98c2678bbb29",
     "showTitle": false,
     "tableResultSettingsMap": {},
     "title": ""
    }
   },
   "outputs": [
    {
     "output_type": "stream",
     "name": "stdout",
     "output_type": "stream",
     "text": [
      "Out[99]: DataFrame[]"
     ]
    }
   ],
   "source": [
    "# Cria o schema silver caso não exista\n",
    "spark.sql(\"CREATE DATABASE IF NOT EXISTS silver\")"
   ]
  },
  {
   "cell_type": "markdown",
   "metadata": {
    "application/vnd.databricks.v1+cell": {
     "cellMetadata": {
      "byteLimit": 2048000,
      "rowLimit": 10000
     },
     "inputWidgets": {},
     "nuid": "73739c7a-778c-43ef-bc3c-5e8bf617383e",
     "showTitle": false,
     "tableResultSettingsMap": {},
     "title": ""
    }
   },
   "source": [
    "### Leitura dos Dados Bronze e Processamento\n",
    "\n",
    "Nesta etapa, são lidos os dados da camada bronze e aplicadas as regras de limpeza, padronização e filtragem dos registros, preparando os dados para análises e consumo pela camada Silver."
   ]
  },
  {
   "cell_type": "code",
   "execution_count": 0,
   "metadata": {
    "application/vnd.databricks.v1+cell": {
     "cellMetadata": {
      "byteLimit": 2048000,
      "rowLimit": 10000
     },
     "inputWidgets": {},
     "nuid": "b3dab869-7b8c-4be8-97c6-b8eda85c0355",
     "showTitle": false,
     "tableResultSettingsMap": {},
     "title": ""
    }
   },
   "outputs": [],
   "source": [
    "# Leitura dos dados bronze\n",
    "df_bronze_yellow = spark.read.table(\"bronze.yellow_tripdata\")\n",
    "df_bronze_green = spark.read.table(\"bronze.green_tripdata\")"
   ]
  },
  {
   "cell_type": "code",
   "execution_count": 0,
   "metadata": {
    "application/vnd.databricks.v1+cell": {
     "cellMetadata": {
      "byteLimit": 2048000,
      "rowLimit": 10000
     },
     "inputWidgets": {},
     "nuid": "f18f8c19-a299-4400-923c-00a4a5125344",
     "showTitle": false,
     "tableResultSettingsMap": {},
     "title": ""
    }
   },
   "outputs": [],
   "source": [
    "# Limpeza e transformação\n",
    "df_silver_yellow = processar_df_taxi(df_bronze_yellow)\n",
    "df_silver_green = processar_df_taxi(df_bronze_green)"
   ]
  },
  {
   "cell_type": "markdown",
   "metadata": {
    "application/vnd.databricks.v1+cell": {
     "cellMetadata": {
      "byteLimit": 2048000,
      "rowLimit": 10000
     },
     "inputWidgets": {},
     "nuid": "e24bfb6d-6c57-46fc-8fc6-85e1eb209e83",
     "showTitle": false,
     "tableResultSettingsMap": {},
     "title": ""
    }
   },
   "source": [
    "### Persistência e Registro das Tabelas Silver\n",
    "\n",
    "Os dados tratados são salvos no formato Delta Lake e registrados como tabelas no schema Silver, facilitando o consumo posterior por SQL ou ferramentas de BI.\n"
   ]
  },
  {
   "cell_type": "code",
   "execution_count": 0,
   "metadata": {
    "application/vnd.databricks.v1+cell": {
     "cellMetadata": {
      "byteLimit": 2048000,
      "rowLimit": 10000
     },
     "inputWidgets": {},
     "nuid": "8032d063-c1d2-4eb1-8fb1-ee597282d07e",
     "showTitle": false,
     "tableResultSettingsMap": {},
     "title": ""
    }
   },
   "outputs": [
    {
     "output_type": "stream",
     "name": "stdout",
     "output_type": "stream",
     "text": [
      "Out[103]: DataFrame[]"
     ]
    }
   ],
   "source": [
    "# Caminhos da camada silver\n",
    "silver_base = \"/FileStore/tables/silver\"\n",
    "silver_yellow = f\"{silver_base}/yellow_tripdata\"\n",
    "silver_green = f\"{silver_base}/green_tripdata\"\n",
    "\n",
    "# Salva como Delta\n",
    "df_silver_yellow.write.format(\"delta\").mode(\"overwrite\").save(silver_yellow)\n",
    "df_silver_green.write.format(\"delta\").mode(\"overwrite\").save(silver_green)\n",
    "\n",
    "# Registra tabelas no schema silver\n",
    "spark.sql(\"DROP TABLE IF EXISTS silver.yellow_tripdata\")\n",
    "spark.sql(\"DROP TABLE IF EXISTS silver.green_tripdata\")\n",
    "spark.sql(f\"CREATE TABLE silver.yellow_tripdata USING DELTA LOCATION '{silver_yellow}'\")\n",
    "spark.sql(f\"CREATE TABLE silver.green_tripdata USING DELTA LOCATION '{silver_green}'\")"
   ]
  },
  {
   "cell_type": "markdown",
   "metadata": {
    "application/vnd.databricks.v1+cell": {
     "cellMetadata": {
      "byteLimit": 2048000,
      "rowLimit": 10000
     },
     "inputWidgets": {},
     "nuid": "b47cc5f4-ce29-4049-a982-5d96e7316ee4",
     "showTitle": false,
     "tableResultSettingsMap": {},
     "title": ""
    }
   },
   "source": [
    "## Validação Final\n",
    "\n",
    "Aqui validamos o registro das tabelas e mostramos um exemplo de consulta SQL nos dados finais da camada Silver."
   ]
  },
  {
   "cell_type": "code",
   "execution_count": 0,
   "metadata": {
    "application/vnd.databricks.v1+cell": {
     "cellMetadata": {
      "byteLimit": 2048000,
      "rowLimit": 10000
     },
     "inputWidgets": {},
     "nuid": "39c42ded-4b22-402b-9544-fe81667c9159",
     "showTitle": false,
     "tableResultSettingsMap": {},
     "title": ""
    }
   },
   "outputs": [
    {
     "output_type": "stream",
     "name": "stdout",
     "output_type": "stream",
     "text": [
      "Linhas Yellow Silver: 15167894\nLinhas Green Silver: 298406\n"
     ]
    },
    {
     "output_type": "display_data",
     "data": {
      "text/html": [
       "<style scoped>\n",
       "  .table-result-container {\n",
       "    max-height: 300px;\n",
       "    overflow: auto;\n",
       "  }\n",
       "  table, th, td {\n",
       "    border: 1px solid black;\n",
       "    border-collapse: collapse;\n",
       "  }\n",
       "  th, td {\n",
       "    padding: 5px;\n",
       "  }\n",
       "  th {\n",
       "    text-align: left;\n",
       "  }\n",
       "</style><div class='table-result-container'><table class='table-result'><thead style='background-color: white'><tr><th>vendor_id</th><th>pickup_datetime</th><th>dropoff_datetime</th><th>passenger_count</th><th>trip_distance</th><th>ratecode_id</th><th>store_and_fwd_flag</th><th>pu_location_id</th><th>do_location_id</th><th>payment_type</th><th>fare_amount</th><th>extra</th><th>mta_tax</th><th>tip_amount</th><th>tolls_amount</th><th>improvement_surcharge</th><th>total_amount</th><th>congestion_surcharge</th><th>airport_fee</th></tr></thead><tbody><tr><td>2</td><td>2023-01-01T00:32:10.000+0000</td><td>2023-01-01T00:40:36.000+0000</td><td>1</td><td>0.97</td><td>1.0</td><td>N</td><td>161</td><td>141</td><td>2</td><td>9.3</td><td>1.0</td><td>0.5</td><td>0.0</td><td>0.0</td><td>1.0</td><td>14.3</td><td>2.5</td><td>0.0</td></tr><tr><td>2</td><td>2023-01-01T00:55:08.000+0000</td><td>2023-01-01T01:01:27.000+0000</td><td>1</td><td>1.1</td><td>1.0</td><td>N</td><td>43</td><td>237</td><td>1</td><td>7.9</td><td>1.0</td><td>0.5</td><td>4.0</td><td>0.0</td><td>1.0</td><td>16.9</td><td>2.5</td><td>0.0</td></tr><tr><td>2</td><td>2023-01-01T00:25:04.000+0000</td><td>2023-01-01T00:37:49.000+0000</td><td>1</td><td>2.51</td><td>1.0</td><td>N</td><td>48</td><td>238</td><td>1</td><td>14.9</td><td>1.0</td><td>0.5</td><td>15.0</td><td>0.0</td><td>1.0</td><td>34.9</td><td>2.5</td><td>0.0</td></tr><tr><td>2</td><td>2023-01-01T00:10:29.000+0000</td><td>2023-01-01T00:21:19.000+0000</td><td>1</td><td>1.43</td><td>1.0</td><td>N</td><td>107</td><td>79</td><td>1</td><td>11.4</td><td>1.0</td><td>0.5</td><td>3.28</td><td>0.0</td><td>1.0</td><td>19.68</td><td>2.5</td><td>0.0</td></tr><tr><td>2</td><td>2023-01-01T00:50:34.000+0000</td><td>2023-01-01T01:02:52.000+0000</td><td>1</td><td>1.84</td><td>1.0</td><td>N</td><td>161</td><td>137</td><td>1</td><td>12.8</td><td>1.0</td><td>0.5</td><td>10.0</td><td>0.0</td><td>1.0</td><td>27.8</td><td>2.5</td><td>0.0</td></tr><tr><td>2</td><td>2023-01-01T00:09:22.000+0000</td><td>2023-01-01T00:19:49.000+0000</td><td>1</td><td>1.66</td><td>1.0</td><td>N</td><td>239</td><td>143</td><td>1</td><td>12.1</td><td>1.0</td><td>0.5</td><td>3.42</td><td>0.0</td><td>1.0</td><td>20.52</td><td>2.5</td><td>0.0</td></tr><tr><td>2</td><td>2023-01-01T00:27:12.000+0000</td><td>2023-01-01T00:49:56.000+0000</td><td>1</td><td>11.7</td><td>1.0</td><td>N</td><td>142</td><td>200</td><td>1</td><td>45.7</td><td>1.0</td><td>0.5</td><td>10.74</td><td>3.0</td><td>1.0</td><td>64.44</td><td>2.5</td><td>0.0</td></tr><tr><td>2</td><td>2023-01-01T00:21:44.000+0000</td><td>2023-01-01T00:36:40.000+0000</td><td>1</td><td>2.95</td><td>1.0</td><td>N</td><td>164</td><td>236</td><td>1</td><td>17.7</td><td>1.0</td><td>0.5</td><td>5.68</td><td>0.0</td><td>1.0</td><td>28.38</td><td>2.5</td><td>0.0</td></tr><tr><td>2</td><td>2023-01-01T00:39:42.000+0000</td><td>2023-01-01T00:50:36.000+0000</td><td>1</td><td>3.01</td><td>1.0</td><td>N</td><td>141</td><td>107</td><td>2</td><td>14.9</td><td>1.0</td><td>0.5</td><td>0.0</td><td>0.0</td><td>1.0</td><td>19.9</td><td>2.5</td><td>0.0</td></tr><tr><td>2</td><td>2023-01-01T00:53:01.000+0000</td><td>2023-01-01T01:01:45.000+0000</td><td>1</td><td>1.8</td><td>1.0</td><td>N</td><td>234</td><td>68</td><td>1</td><td>11.4</td><td>1.0</td><td>0.5</td><td>3.28</td><td>0.0</td><td>1.0</td><td>19.68</td><td>2.5</td><td>0.0</td></tr></tbody></table></div>"
      ]
     },
     "metadata": {
      "application/vnd.databricks.v1+output": {
       "addedWidgets": {},
       "aggData": [],
       "aggError": "",
       "aggOverflow": false,
       "aggSchema": [],
       "aggSeriesLimitReached": false,
       "aggType": "",
       "arguments": {},
       "columnCustomDisplayInfos": {},
       "data": [
        [
         2,
         "2023-01-01T00:32:10.000+0000",
         "2023-01-01T00:40:36.000+0000",
         1,
         0.97,
         1.0,
         "N",
         161,
         141,
         2,
         9.3,
         1.0,
         0.5,
         0.0,
         0.0,
         1.0,
         14.3,
         2.5,
         0.0
        ],
        [
         2,
         "2023-01-01T00:55:08.000+0000",
         "2023-01-01T01:01:27.000+0000",
         1,
         1.1,
         1.0,
         "N",
         43,
         237,
         1,
         7.9,
         1.0,
         0.5,
         4.0,
         0.0,
         1.0,
         16.9,
         2.5,
         0.0
        ],
        [
         2,
         "2023-01-01T00:25:04.000+0000",
         "2023-01-01T00:37:49.000+0000",
         1,
         2.51,
         1.0,
         "N",
         48,
         238,
         1,
         14.9,
         1.0,
         0.5,
         15.0,
         0.0,
         1.0,
         34.9,
         2.5,
         0.0
        ],
        [
         2,
         "2023-01-01T00:10:29.000+0000",
         "2023-01-01T00:21:19.000+0000",
         1,
         1.43,
         1.0,
         "N",
         107,
         79,
         1,
         11.4,
         1.0,
         0.5,
         3.28,
         0.0,
         1.0,
         19.68,
         2.5,
         0.0
        ],
        [
         2,
         "2023-01-01T00:50:34.000+0000",
         "2023-01-01T01:02:52.000+0000",
         1,
         1.84,
         1.0,
         "N",
         161,
         137,
         1,
         12.8,
         1.0,
         0.5,
         10.0,
         0.0,
         1.0,
         27.8,
         2.5,
         0.0
        ],
        [
         2,
         "2023-01-01T00:09:22.000+0000",
         "2023-01-01T00:19:49.000+0000",
         1,
         1.66,
         1.0,
         "N",
         239,
         143,
         1,
         12.1,
         1.0,
         0.5,
         3.42,
         0.0,
         1.0,
         20.52,
         2.5,
         0.0
        ],
        [
         2,
         "2023-01-01T00:27:12.000+0000",
         "2023-01-01T00:49:56.000+0000",
         1,
         11.7,
         1.0,
         "N",
         142,
         200,
         1,
         45.7,
         1.0,
         0.5,
         10.74,
         3.0,
         1.0,
         64.44,
         2.5,
         0.0
        ],
        [
         2,
         "2023-01-01T00:21:44.000+0000",
         "2023-01-01T00:36:40.000+0000",
         1,
         2.95,
         1.0,
         "N",
         164,
         236,
         1,
         17.7,
         1.0,
         0.5,
         5.68,
         0.0,
         1.0,
         28.38,
         2.5,
         0.0
        ],
        [
         2,
         "2023-01-01T00:39:42.000+0000",
         "2023-01-01T00:50:36.000+0000",
         1,
         3.01,
         1.0,
         "N",
         141,
         107,
         2,
         14.9,
         1.0,
         0.5,
         0.0,
         0.0,
         1.0,
         19.9,
         2.5,
         0.0
        ],
        [
         2,
         "2023-01-01T00:53:01.000+0000",
         "2023-01-01T01:01:45.000+0000",
         1,
         1.8,
         1.0,
         "N",
         234,
         68,
         1,
         11.4,
         1.0,
         0.5,
         3.28,
         0.0,
         1.0,
         19.68,
         2.5,
         0.0
        ]
       ],
       "datasetInfos": [],
       "dbfsResultPath": null,
       "isJsonSchema": true,
       "metadata": {},
       "overflow": false,
       "plotOptions": {
        "customPlotOptions": {},
        "displayType": "table",
        "pivotAggregation": null,
        "pivotColumns": null,
        "xColumns": null,
        "yColumns": null
       },
       "removedWidgets": [],
       "schema": [
        {
         "metadata": "{}",
         "name": "vendor_id",
         "type": "\"integer\""
        },
        {
         "metadata": "{}",
         "name": "pickup_datetime",
         "type": "\"timestamp\""
        },
        {
         "metadata": "{}",
         "name": "dropoff_datetime",
         "type": "\"timestamp\""
        },
        {
         "metadata": "{}",
         "name": "passenger_count",
         "type": "\"integer\""
        },
        {
         "metadata": "{}",
         "name": "trip_distance",
         "type": "\"double\""
        },
        {
         "metadata": "{}",
         "name": "ratecode_id",
         "type": "\"double\""
        },
        {
         "metadata": "{}",
         "name": "store_and_fwd_flag",
         "type": "\"string\""
        },
        {
         "metadata": "{}",
         "name": "pu_location_id",
         "type": "\"long\""
        },
        {
         "metadata": "{}",
         "name": "do_location_id",
         "type": "\"long\""
        },
        {
         "metadata": "{}",
         "name": "payment_type",
         "type": "\"long\""
        },
        {
         "metadata": "{}",
         "name": "fare_amount",
         "type": "\"double\""
        },
        {
         "metadata": "{}",
         "name": "extra",
         "type": "\"double\""
        },
        {
         "metadata": "{}",
         "name": "mta_tax",
         "type": "\"double\""
        },
        {
         "metadata": "{}",
         "name": "tip_amount",
         "type": "\"double\""
        },
        {
         "metadata": "{}",
         "name": "tolls_amount",
         "type": "\"double\""
        },
        {
         "metadata": "{}",
         "name": "improvement_surcharge",
         "type": "\"double\""
        },
        {
         "metadata": "{}",
         "name": "total_amount",
         "type": "\"double\""
        },
        {
         "metadata": "{}",
         "name": "congestion_surcharge",
         "type": "\"double\""
        },
        {
         "metadata": "{}",
         "name": "airport_fee",
         "type": "\"double\""
        }
       ],
       "type": "table"
      }
     },
     "output_type": "display_data"
    }
   ],
   "source": [
    "# Validação final das tabelas Silver\n",
    "total_yellow = spark.read.table(\"silver.yellow_tripdata\").count()\n",
    "total_green = spark.read.table(\"silver.green_tripdata\").count()\n",
    "print(f\"Linhas Yellow Silver: {total_yellow}\")\n",
    "print(f\"Linhas Green Silver: {total_green}\")\n",
    "\n",
    "# Exemplo de consulta SQL\n",
    "display(spark.sql(\"SELECT * FROM silver.yellow_tripdata LIMIT 10\"))"
   ]
  }
 ],
 "metadata": {
  "application/vnd.databricks.v1+notebook": {
   "computePreferences": null,
   "dashboards": [],
   "environmentMetadata": {
    "base_environment": "",
    "environment_version": "1"
   },
   "inputWidgetPreferences": null,
   "language": "python",
   "notebookMetadata": {
    "mostRecentlyExecutedCommandWithImplicitDF": {
     "commandId": 693635733718946,
     "dataframes": [
      "_sqldf"
     ]
    },
    "pythonIndentUnit": 4
   },
   "notebookName": "silver",
   "widgets": {}
  }
 },
 "nbformat": 4,
 "nbformat_minor": 0
}